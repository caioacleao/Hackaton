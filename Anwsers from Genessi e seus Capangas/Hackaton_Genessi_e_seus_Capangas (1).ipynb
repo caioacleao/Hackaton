{
  "nbformat": 4,
  "nbformat_minor": 0,
  "metadata": {
    "colab": {
      "provenance": []
    },
    "kernelspec": {
      "name": "python3",
      "display_name": "Python 3"
    },
    "language_info": {
      "name": "python"
    }
  },
  "cells": [
    {
      "cell_type": "markdown",
      "source": [
        "# **Introduction to Applications of Quantum Computing to Quantum Chemistry**\n",
        "\n",
        "1.   **Obtaining expectation value of a Hamiltonian.**\n",
        "\n",
        "Consider the following Hamiltonian:\n",
        "$$\n",
        "K = \\frac{1}{3}\\sum_{i<j}X_iX_j-\\sum_{n=0}^{n-1}Z_i\n",
        "$$\n",
        "where $n$ is the number of qubits (or wires, in Pennylane language), $X_i$ and $Z_i$ are the Pauli-X and Pauli-Z operators acting on the i-th qubit, respectively, and $\\sum_{i<j}$ denotes a sum over all pairs $(i, j)$ where $i < j$. For example, for n = 3, the pairs that contribute to\n",
        "the sum over $i < j$ are $(0, 1)$,$(0, 2)$ and $(1, 2)$.\n",
        "\n",
        "Note that indexing starts from 0. You must implement in Pennylane a function that simulates a quantum circuit where the qubits start in the state $|0⟩$ and a Hadamard gate H is applied to all of them, producing a final state $|\\psi⟩$.\n",
        "\n",
        "The function must receive the number of qubits and return the expectation value of $K$ for $|\\psi⟩$."
      ],
      "metadata": {
        "id": "oc_DMtHvkt2V"
      }
    },
    {
      "cell_type": "code",
      "source": [
        "# Installing Pennyline\n",
        "!pip install pennylane\n",
        "\n",
        "# Importing the liberies\n",
        "import pennylane as qml\n",
        "from pennylane import numpy as pnp"
      ],
      "metadata": {
        "colab": {
          "base_uri": "https://localhost:8080/"
        },
        "id": "WfR1UVlOkspW",
        "outputId": "ad1ccaf8-f4f8-4a54-f773-ac2fc18add09"
      },
      "execution_count": 1,
      "outputs": [
        {
          "output_type": "stream",
          "name": "stdout",
          "text": [
            "Collecting pennylane\n",
            "  Downloading PennyLane-0.38.0-py3-none-any.whl.metadata (9.3 kB)\n",
            "Requirement already satisfied: numpy<2.0 in /usr/local/lib/python3.10/dist-packages (from pennylane) (1.26.4)\n",
            "Requirement already satisfied: scipy in /usr/local/lib/python3.10/dist-packages (from pennylane) (1.13.1)\n",
            "Requirement already satisfied: networkx in /usr/local/lib/python3.10/dist-packages (from pennylane) (3.4)\n",
            "Collecting rustworkx>=0.14.0 (from pennylane)\n",
            "  Downloading rustworkx-0.15.1-cp38-abi3-manylinux_2_17_x86_64.manylinux2014_x86_64.whl.metadata (9.9 kB)\n",
            "Requirement already satisfied: autograd in /usr/local/lib/python3.10/dist-packages (from pennylane) (1.7.0)\n",
            "Requirement already satisfied: toml in /usr/local/lib/python3.10/dist-packages (from pennylane) (0.10.2)\n",
            "Collecting appdirs (from pennylane)\n",
            "  Downloading appdirs-1.4.4-py2.py3-none-any.whl.metadata (9.0 kB)\n",
            "Collecting autoray>=0.6.11 (from pennylane)\n",
            "  Downloading autoray-0.6.12-py3-none-any.whl.metadata (5.7 kB)\n",
            "Requirement already satisfied: cachetools in /usr/local/lib/python3.10/dist-packages (from pennylane) (5.5.0)\n",
            "Collecting pennylane-lightning>=0.38 (from pennylane)\n",
            "  Downloading PennyLane_Lightning-0.38.0-cp310-cp310-manylinux_2_28_x86_64.whl.metadata (26 kB)\n",
            "Requirement already satisfied: requests in /usr/local/lib/python3.10/dist-packages (from pennylane) (2.32.3)\n",
            "Requirement already satisfied: typing-extensions in /usr/local/lib/python3.10/dist-packages (from pennylane) (4.12.2)\n",
            "Requirement already satisfied: packaging in /usr/local/lib/python3.10/dist-packages (from pennylane) (24.1)\n",
            "Requirement already satisfied: charset-normalizer<4,>=2 in /usr/local/lib/python3.10/dist-packages (from requests->pennylane) (3.4.0)\n",
            "Requirement already satisfied: idna<4,>=2.5 in /usr/local/lib/python3.10/dist-packages (from requests->pennylane) (3.10)\n",
            "Requirement already satisfied: urllib3<3,>=1.21.1 in /usr/local/lib/python3.10/dist-packages (from requests->pennylane) (2.2.3)\n",
            "Requirement already satisfied: certifi>=2017.4.17 in /usr/local/lib/python3.10/dist-packages (from requests->pennylane) (2024.8.30)\n",
            "Downloading PennyLane-0.38.0-py3-none-any.whl (1.9 MB)\n",
            "\u001b[2K   \u001b[90m━━━━━━━━━━━━━━━━━━━━━━━━━━━━━━━━━━━━━━━━\u001b[0m \u001b[32m1.9/1.9 MB\u001b[0m \u001b[31m9.9 MB/s\u001b[0m eta \u001b[36m0:00:00\u001b[0m\n",
            "\u001b[?25hDownloading autoray-0.6.12-py3-none-any.whl (50 kB)\n",
            "\u001b[2K   \u001b[90m━━━━━━━━━━━━━━━━━━━━━━━━━━━━━━━━━━━━━━━━\u001b[0m \u001b[32m51.0/51.0 kB\u001b[0m \u001b[31m1.6 MB/s\u001b[0m eta \u001b[36m0:00:00\u001b[0m\n",
            "\u001b[?25hDownloading PennyLane_Lightning-0.38.0-cp310-cp310-manylinux_2_28_x86_64.whl (15.3 MB)\n",
            "\u001b[2K   \u001b[90m━━━━━━━━━━━━━━━━━━━━━━━━━━━━━━━━━━━━━━━━\u001b[0m \u001b[32m15.3/15.3 MB\u001b[0m \u001b[31m20.2 MB/s\u001b[0m eta \u001b[36m0:00:00\u001b[0m\n",
            "\u001b[?25hDownloading rustworkx-0.15.1-cp38-abi3-manylinux_2_17_x86_64.manylinux2014_x86_64.whl (2.0 MB)\n",
            "\u001b[2K   \u001b[90m━━━━━━━━━━━━━━━━━━━━━━━━━━━━━━━━━━━━━━━━\u001b[0m \u001b[32m2.0/2.0 MB\u001b[0m \u001b[31m25.2 MB/s\u001b[0m eta \u001b[36m0:00:00\u001b[0m\n",
            "\u001b[?25hDownloading appdirs-1.4.4-py2.py3-none-any.whl (9.6 kB)\n",
            "Installing collected packages: appdirs, rustworkx, autoray, pennylane-lightning, pennylane\n",
            "Successfully installed appdirs-1.4.4 autoray-0.6.12 pennylane-0.38.0 pennylane-lightning-0.38.0 rustworkx-0.15.1\n"
          ]
        }
      ]
    },
    {
      "cell_type": "code",
      "execution_count": 2,
      "metadata": {
        "id": "i_hSz3RZkgJO"
      },
      "outputs": [],
      "source": [
        "# Exercise 1\n",
        "\n",
        "def get_expectation_value():\n",
        "  '''\n",
        "    This function colect the number of qubits (qubits) enter by the user than\n",
        "    create an circuit with n_ qubits for an expecifc Hamiltonian\n",
        "    and return the expectation value.\n",
        "  '''\n",
        "\n",
        "  # Importing the liberies\n",
        "  import pennylane as qml\n",
        "  from pennylane import numpy as pnp\n",
        "\n",
        "  # Requsting the number of qubits\n",
        "\n",
        "  n_qubits = int(input(\"Enter the number of qubits that you desire: \"))\n",
        "\n",
        "  coefs = [1/3, -1]\n",
        "  ops = [sum([qml.PauliX(i)@qml.PauliX(j) for i in range(n_qubits) for j in range(n_qubits) if i < j]), sum([qml.PauliZ(i) for i in range(n_qubits - 1)])]\n",
        "\n",
        "  # Hamiltonian\n",
        "\n",
        "  H = qml.Hamiltonian(coefs, ops)\n",
        "\n",
        "  # Printing the Hamltonian\n",
        "\n",
        "  print(f\"\\nThe Hamiltonian is given by: {H}\")\n",
        "\n",
        "  # Creating the circuit\n",
        "\n",
        "  dev = qml.device(\"default.qubit\", wires=n_qubits)\n",
        "  @qml.qnode(dev)\n",
        "  def circuit():\n",
        "    # Hadamard gate on all qubits\n",
        "    for i in range(n_qubits):\n",
        "      qml.Hadamard(wires=i)\n",
        "    return qml.expval(H)\n",
        "\n",
        "  # Printing out the expectet value of the Hamiltonian:\n",
        "\n",
        "  print(f\"\\nThe expectation value of the Hamiltonian is: {circuit()}\")\n",
        "\n",
        "  # Drawing the circuit\n",
        "  print(\"\\nVisualing the circuit: \")\n",
        "  qml.draw_mpl(circuit)();\n",
        "\n",
        "  return ''"
      ]
    },
    {
      "cell_type": "code",
      "source": [
        "# Answer question 1 (Introduction to Applications of Quantum Computing to Quan- tum Chemistry)\n",
        "\n",
        "print(get_expectation_value())"
      ],
      "metadata": {
        "colab": {
          "base_uri": "https://localhost:8080/",
          "height": 675
        },
        "id": "YHe1eBA4li2s",
        "outputId": "503e7d47-b92f-4e1c-8a91-f91bb1914b93"
      },
      "execution_count": 3,
      "outputs": [
        {
          "output_type": "stream",
          "name": "stdout",
          "text": [
            "Enter the number of qubits that you desire: 4\n",
            "\n",
            "The Hamiltonian is given by: 0.3333333333333333 * (X(0) @ X(1) + X(0) @ X(2) + X(0) @ X(3) + X(1) @ X(2) + X(1) @ X(3) + X(2) @ X(3)) + -1 * (Z(0) + Z(1) + Z(2))\n",
            "\n",
            "The expectation value of the Hamiltonian is: 2.0000000000000036\n",
            "\n",
            "Visualing the circuit: \n",
            "\n"
          ]
        },
        {
          "output_type": "display_data",
          "data": {
            "text/plain": [
              "<Figure size 400x500 with 1 Axes>"
            ],
            "image/png": "[encoded data removed]"
          },
          "metadata": {}
        }
      ]
    },
    {
      "cell_type": "markdown",
      "source": [
        "# **Introduction to Applications of Quantum Computing to Quantum Chemistry**\n",
        "\n",
        "2.   **Ground state energy for molecule and spin system with Variational\n",
        "Quantum Algorithms and Trotterization.**\n",
        "\n",
        "Variational Quantum Algorithms (VQAs) are a class of hybrid quantum-classical algorithms. These algorithms leverage quantum circuits to accelerate computations while utilizing a classical optimizer to iteratively adjust the parameters of the circuit, seeking to minimize a cost function and ultimately find the correct solution.\n",
        "\n",
        "(a) The calculation of molecular properties is crucial in scientific and technological fields, such as chemistry and the pharmaceutical industry. In particular, the ground state energy of a molecule provides valuable insights into its properties, including stability and reactivity.\n",
        "\n",
        "You must implement a function in Pennylane that simulates the Variational Quantum Eigensolver (VQE). This function should take as input a six-entry array of floating-point numbers, representing the x, y and z coordinates of two hydrogen atoms. The first three entries correspond to the coordinates of the first hydrogen atom, and the remaining three entries represent the coordinates of the second hydrogen atom. The function should return the ground state energy of the molecule. Also explain why the Pauli-Z is necessary in Jordan-Wigner transformation.\n",
        "\n",
        "**Observation: Explicitly define the STO-3G basis function set, multiplicity=1, charge=0 and Jordan-Wigner mapping in the code.**\n",
        "\n",
        "(b) Consider a spin chain consisting of N spin-$\\frac{1}{2}$\n",
        "particles, where each spin can point either in the positive or negative z-direction. Additionally, an external magnetic field is applied to the system.\n",
        "\n",
        "This quantum system is described by the Transverse Ising Hamiltonian. For a closed spin chain with a transverse magnetic field of intensity h, the Hamiltonian is:\n",
        "\n",
        "$$ H = -\\sum_{i=1}^N Z_i \\otimes Z_{i+1} -h\\sum_{n=1}^NX_i$$\n",
        "where $Z_i$ and $X_i$ are the Pauli-Z and Pauli-X operators acting on the $i-th$ spin site, respectively. In a closed chain, the site $N + 1$ is identified with the first site.\n",
        "\n",
        "You must implement a variational quantum algorithm in Pennylane that, for a given value of the transverse magnetic field h, computes the ground state energy of the spin chain with N = 4 sites. The magnetic field intensity h should be passed as an input to the algorithm.\n",
        "\n",
        "(c) The total energy of a quantum system is represented by operator $H$. We know\n",
        "that an initial quantum state $|\\psi⟩$ evolves over time through the action of the evolution operator U, defined as\n",
        "\n",
        "$$ U(t) = e^{-iHt} $$\n",
        "\n",
        "However, it’s possible to build quantum circuits that approximates the realization of\n",
        "$U(t)$, being one of these methods knows as Trotterization. If we can write $H$ as\n",
        "\n",
        "$$ H = \\sum_{i=0}^kH_i, $$\n",
        "of a number $k$ of Hermitian operators $H_i$ that do not necessarily commute, we can approximate $U(t)$ via\n",
        "\n",
        "$$U \\approx ∏_{j=1}^n∏_{i=1}^ke^{\\frac{-iH_it}{n}}, $$\n",
        "with each term in the j-product called trotter step. The larger n is, i.e. more trotter\n",
        "steps, the better the approximation of U that we get.\n",
        "\n",
        "You must implement in Pennylane a function which applies the evolution operator\n",
        "related to the Hamiltonian\n",
        "\n",
        "$$H = αX⊗X + βZ⊗Z$$\n",
        "in the state $|00⟩$. The function must receive as parameters α, β, the time t and the number\n",
        "of trotter steps n in this order. It must return the probability of measure $|00⟩, |01⟩, |10⟩, |11⟩$."
      ],
      "metadata": {
        "id": "xZ5vZtM1lu-v"
      }
    },
    {
      "cell_type": "markdown",
      "source": [
        "# (a)"
      ],
      "metadata": {
        "id": "BWpx33o-3JZA"
      }
    },
    {
      "cell_type": "code",
      "source": [
        "# Question (a)\n",
        "\n",
        "def H2_molecule():\n",
        "\n",
        "  '''\n",
        "  This function returns the ground state of the H2 molecule.\n",
        "\n",
        "  Enter the coordinates of the Hydrogen atoms as x, y, and z values separated by\n",
        "  spaces.\n",
        "\n",
        "  The function computes the ground state using a VQA with Hartree Fock initial\n",
        "  state, a Double Excitation circuit ansatz and a Gradient Descent optimizer.\n",
        "  '''\n",
        "\n",
        "  # Collect the coordinates\n",
        "  coord_1 = list(map(float, input('Enter the coordinates of the first H as x y z: ').split()))\n",
        "  coord_2 = list(map(float, input('\\nEnter the coordinates of the second H as x y z: ').split()))\n",
        "\n",
        "  # Define the symbols and the coordinates\n",
        "  symbols = [\"H\", \"H\"]\n",
        "  coordinates = pnp.array([coord_1, coord_2])\n",
        "\n",
        "  # Create the molecule\n",
        "  molecule = qml.qchem.Molecule(symbols, coordinates, charge = 0, mult = 1, basis_name='sto-3g') # Creating the molecule with the exercise\n",
        "  H, qubits = qml.qchem.molecular_hamiltonian(molecule, mapping='jordan_wigner')\n",
        "\n",
        "  # Print out the Hamiltonian just to check if it's all right\n",
        "  print(f\"\\nThe Hamiltonian is given by: {H}\")\n",
        "\n",
        "  # Connecting  with the device\n",
        "  dev = qml.device(\"default.qubit\", wires = qubits)\n",
        "\n",
        "  # Creating the cost_function\n",
        "  @qml.qnode(dev)\n",
        "  def cost_function(params): # What is this params?\n",
        "    qml.BasisState(pnp.array([1, 1, 0, 0]), wires = range(qubits)) # Creating the basis state\n",
        "    qml.DoubleExcitation(params, wires = [0, 1, 2, 3]) # Why i have to use Double Exctations?\n",
        "\n",
        "    return qml.expval(H)\n",
        "\n",
        "  # Choose an optimizer\n",
        "  opt = qml.GradientDescentOptimizer(stepsize = 0.4)\n",
        "\n",
        "  # Initial guess parameters\n",
        "  theta = pnp.array(0.20885146442480412, requires_grad=True)\n",
        "\n",
        "  # Programing the optimzation routine\n",
        "  energy = [cost_function(theta)] # Store the values of the cost function\n",
        "  angle = [theta] # Store the values of the circuit parameter\n",
        "\n",
        "  max_iterations = 40 # Maximum number of calls to the optimizer\n",
        "  conv_tol = 1e-06 # Convergence threshold to stop our optimization procedure\n",
        "\n",
        "  for n in range(max_iterations):\n",
        "    theta,prev_energy=opt.step_and_cost(cost_function,theta)\n",
        "    energy.append(cost_function(theta))\n",
        "    angle.append(theta)\n",
        "    conv=pnp.abs(energy[-1]-prev_energy)\n",
        "\n",
        "    if conv<=conv_tol:\n",
        "        break\n",
        "\n",
        "  # Print out the value of the ground state energy\n",
        "  print(\"\\n\" f\"Final value of the ground-state energy = {energy[-1]:.8f} Ha\")\n",
        "\n",
        "  # Drawing the circuit\n",
        "  print(\"\\nVisualing the circuit:\")\n",
        "  qml.draw_mpl(cost_function)(1);\n",
        "\n",
        "  return ''"
      ],
      "metadata": {
        "id": "V9LDtkTAl_sj"
      },
      "execution_count": 5,
      "outputs": []
    },
    {
      "cell_type": "code",
      "source": [
        "# Answer question 2(a) (Introduction to Applications of Quantum Computing to Quan- tum Chemistry)\n",
        "print(H2_molecule())"
      ],
      "metadata": {
        "colab": {
          "base_uri": "https://localhost:8080/",
          "height": 730
        },
        "id": "oXyOW5KOmFPA",
        "outputId": "674eaadf-793a-4647-d1fa-9e812fb003be"
      },
      "execution_count": 6,
      "outputs": [
        {
          "output_type": "stream",
          "name": "stdout",
          "text": [
            "Enter the coordinates of the first H as x y z: 0 0 0.64\n",
            "\n",
            "Enter the coordinates of the second H as x y z: 0 0 -064\n",
            "\n",
            "The Hamiltonian is given by: -0.5458607286622305 * I(0) + 0.039639439125117235 * Z(0) + 0.03963943912511722 * Z(1) + 0.1936514860798264 * (Z(0) @ Z(1)) + 0.03963943912517756 * Z(2) + 0.0038675742579624885 * (Z(0) @ Z(2)) + 0.039639439125177534 * Z(3) + 0.0038675742579624885 * (Z(0) @ Z(3)) + 0.0038675742579624885 * (Z(1) @ Z(2)) + 0.0038675742579624885 * (Z(1) @ Z(3)) + 0.1936514860796676 * (Z(2) @ Z(3))\n",
            "\n",
            "Final value of the ground-state energy = -0.17402805 Ha\n",
            "\n",
            "Visualing the circuit:\n",
            "\n"
          ]
        },
        {
          "output_type": "display_data",
          "data": {
            "text/plain": [
              "<Figure size 500x500 with 1 Axes>"
            ],
            "image/png": "[encoded data removed]"
          },
          "metadata": {}
        }
      ]
    },
    {
      "cell_type": "markdown",
      "source": [
        "# (b)"
      ],
      "metadata": {
        "id": "N6dSd4p53NbX"
      }
    },
    {
      "cell_type": "code",
      "source": [
        "# Question (b)\n",
        "\n",
        "def Ising_Model():\n",
        "  '''\n",
        "  This function calculates the ground state of a spin chain using the Transverse\n",
        "  Ising Hamiltonian.\n",
        "\n",
        "  Input the magnetic field intensity only. It computes the ground state for 4\n",
        "  qubits with a VQA model, starting from |1,1,0,0> as the initial state,\n",
        "  employing X and Z axis rotations as the ansatz and using a Gradient Descent\n",
        "  optimizer.\n",
        "  '''\n",
        "\n",
        "  # Geting the h value\n",
        "  h = float(input(\"Enter the extenal magnetic field: \"))\n",
        "\n",
        "  # Creating the Hamiltonian\n",
        "  coefs = [-1, -h]\n",
        "  ops = [sum(qml.PauliZ(i) @ qml.PauliZ(i+1) for i in range(1,4)) + qml.PauliZ(4) @ qml.PauliZ(1), sum(qml.PauliX(i) for i in range(1, 5))]\n",
        "  H = qml.Hamiltonian(coefs, ops)\n",
        "\n",
        "  # Printing the Hamltonian\n",
        "  print(f\"\\nThe Hamiltonian is given by: {H}\")\n",
        "\n",
        "  # Creating the circuit\n",
        "  dev = qml.device(\"default.qubit\")\n",
        "  @qml.qnode(dev)\n",
        "  def cost_function(params):\n",
        "    # Build the initial state\n",
        "    qml.BasisState(pnp.array([1, 1, 0, 0]), wires = range(1, 5))\n",
        "    # Applying rotation as an ansatz\n",
        "    for i in range(1,5):\n",
        "      qml.RX(params, wires = i)\n",
        "      qml.RZ(params, wires = i)\n",
        "    return qml.expval(H)\n",
        "\n",
        "  # Choose an optimizer\n",
        "  opt = qml.GradientDescentOptimizer(stepsize = 0.1)\n",
        "\n",
        "  # Initial guess parameters\n",
        "  theta = pnp.array(0.5, requires_grad=True)\n",
        "\n",
        "  # Programing the optimzation routine\n",
        "  energy = [cost_function(theta)] # Store the values of the cost function\n",
        "  angle = [theta] # Store the values of the circuit parameter\n",
        "\n",
        "  max_iterations = 40 # Maximum number of calls to the optimizer\n",
        "  conv_tol = 1e-06 # Convergence threshold to stop our optimization procedure\n",
        "\n",
        "  for n in range(max_iterations):\n",
        "    theta,prev_energy=opt.step_and_cost(cost_function,theta)\n",
        "    energy.append(cost_function(theta))\n",
        "    angle.append(theta)\n",
        "    conv=pnp.abs(energy[-1]-prev_energy)\n",
        "\n",
        "    if conv<=conv_tol:\n",
        "      break\n",
        "\n",
        "  # Print out the value of the ground state energy\n",
        "  print(f\"\\nFinal value of the ground-state energy = {energy[-1]:.6f} Ha\")\n",
        "\n",
        "  print(\"\\nVisualizing the circuit:\")\n",
        "\n",
        "  qml.draw_mpl(cost_function)(1);\n",
        "\n",
        "  return ''"
      ],
      "metadata": {
        "id": "Jylbdouimgas"
      },
      "execution_count": 7,
      "outputs": []
    },
    {
      "cell_type": "code",
      "source": [
        "# Answer question 2(b) (Introduction to Applications of Quantum Computing to Quan- tum Chemistry)\n",
        "print(Ising_Model())"
      ],
      "metadata": {
        "colab": {
          "base_uri": "https://localhost:8080/",
          "height": 675
        },
        "id": "2kxhvZBSmiGl",
        "outputId": "1c8a2b34-8b5f-457f-d553-e3a1f0b1aec2"
      },
      "execution_count": 8,
      "outputs": [
        {
          "output_type": "stream",
          "name": "stdout",
          "text": [
            "Enter the extenal magnetic field: 0.1\n",
            "\n",
            "The Hamiltonian is given by: -1 * (Z(1) @ Z(2) + Z(2) @ Z(3) + Z(3) @ Z(4) + Z(4) @ Z(1)) + -0.1 * (X(1) + X(2) + X(3) + X(4))\n",
            "\n",
            "Final value of the ground-state energy = 0.000000 Ha\n",
            "\n",
            "Visualizing the circuit:\n",
            "\n"
          ]
        },
        {
          "output_type": "display_data",
          "data": {
            "text/plain": [
              "<Figure size 600x500 with 1 Axes>"
            ],
            "image/png": "[encoded data removed]"
          },
          "metadata": {}
        }
      ]
    },
    {
      "cell_type": "markdown",
      "source": [
        "# (c)"
      ],
      "metadata": {
        "id": "43nJFAE63PlQ"
      }
    },
    {
      "cell_type": "code",
      "source": [
        "# Question (c)\n",
        "\n",
        "def Time_Evolution():\n",
        "  '''\n",
        "  This function calculates the probability of states |0,0>, |0,1>, |1,0>, and\n",
        "  |1,1> after time evolution at time t using the Trotterization method.\n",
        "\n",
        "  The user inputs parameters a, b, the number of Trotter steps n, and time t.\n",
        "  It utilizes a specified Hamiltonian H, starting from the initial state |0,0>,\n",
        "  and applies Ising operators to compute time evolution and return the\n",
        "  probabilities.\n",
        "  '''\n",
        "\n",
        "  # Reciving the parameters\n",
        "  alpha = float(input(\"Enter the value of alpha: \"))\n",
        "  beta = float(input(\"Enter the value of beta: \"))\n",
        "  n = int(input(\"Enter the value of n: \"))\n",
        "  t = float(input(\"Enter the value of t: \"))\n",
        "\n",
        "  # Building the Hamiltonian\n",
        "  coefs = [alpha, beta]\n",
        "  ops = [qml.PauliX(0) @ qml.PauliX(1), qml.PauliZ(0) @ qml.PauliZ(1)]\n",
        "\n",
        "  H = qml.Hamiltonian(coefs, ops)\n",
        "\n",
        "  print(f\"\\nThe Hamiltonian is given by: {H}\")\n",
        "\n",
        "  # Creating the circuit\n",
        "  wires = range(2)\n",
        "  dev = qml.device(\"default.qubit\", wires)\n",
        "  @qml.qnode(dev)\n",
        "  def circuit(time, n):\n",
        "    qml.BasisState(pnp.array([0, 0]), wires = range(2))\n",
        "    for i in range(n):\n",
        "      qml.IsingXX(2*alpha*time/n, wires = [0,1])\n",
        "      qml.IsingZZ(2*beta*time/n, wires = [0,1])\n",
        "\n",
        "    return qml.probs(wires = [0,1])\n",
        "\n",
        "  # Printing the answers\n",
        "\n",
        "  print(\"\\nProbabilitys for ours function:\")\n",
        "  print(f\"\\nThe probability of measure |00⟩ is: {circuit(t,n)[0]*100:.5f}%\")\n",
        "  print(f\"The probability of measure |01⟩ is: {circuit(t,n)[1]*100:.5f}%\")\n",
        "  print(f\"The probability of measure |10⟩ is: {circuit(t,n)[2]*100:.5f}%\")\n",
        "  print(f\"The probability of measure |11⟩ is: {circuit(t,n)[3]*100:.5f}%\\n\")\n",
        "\n",
        "  print(\"Visualizing the circuit:\")\n",
        "\n",
        "  qml.draw_mpl(circuit)(1,1);\n",
        "\n",
        "  return ''\n"
      ],
      "metadata": {
        "id": "STj-ZeN6msiC"
      },
      "execution_count": 11,
      "outputs": []
    },
    {
      "cell_type": "code",
      "source": [
        "# Answer question 2(c) (Introduction to Applications of Quantum Computing to Quan- tum Chemistry)\n",
        "print(Time_Evolution())"
      ],
      "metadata": {
        "colab": {
          "base_uri": "https://localhost:8080/",
          "height": 615
        },
        "id": "Jy61EKEsmr9G",
        "outputId": "e39d0c4a-f546-4acf-f31c-9ec25d3c5c88"
      },
      "execution_count": 12,
      "outputs": [
        {
          "output_type": "stream",
          "name": "stdout",
          "text": [
            "Enter the value of alpha: 1\n",
            "Enter the value of beta: 1\n",
            "Enter the value of n: 100\n",
            "Enter the value of t: 5\n",
            "\n",
            "The Hamiltonian is given by: 1.0 * (X(0) @ X(1)) + 1.0 * (Z(0) @ Z(1))\n",
            "\n",
            "Probabilitys for ours function:\n",
            "\n",
            "The probability of measure |00⟩ is: 8.04642%\n",
            "The probability of measure |01⟩ is: 0.00000%\n",
            "The probability of measure |10⟩ is: 0.00000%\n",
            "The probability of measure |11⟩ is: 91.95358%\n",
            "\n",
            "Visualizing the circuit:\n",
            "\n"
          ]
        },
        {
          "output_type": "display_data",
          "data": {
            "text/plain": [
              "<Figure size 600x300 with 1 Axes>"
            ],
            "image/png": "[encoded data removed]"
          },
          "metadata": {}
        }
      ]
    },
    {
      "cell_type": "markdown",
      "source": [
        "# **Bose-Einstein Condensates and the Involvement in Advances for New Technologies.**\n",
        "\n",
        "3. **Computational project.**\n",
        "\n",
        "To treat the dynamics of BECs, we need the time-dependent GPE:\n",
        "\n",
        "$$\n",
        "i\\hbar \\frac{\\partial \\psi(\\vec{r},t)}{\\partial t} = - \\frac{\\hbar^{2}}{2m}\\nabla^{2}\\psi(\\vec{r},t)+V(\\vec{r})\\psi(\\vec{r},t)+ U_{0}|\\psi(\\vec{r},t)|^{2}\\psi(\\vec{r},t)\n",
        "$$\n",
        "\n",
        "Studying the dynamics of interacting systems is challenging. Fortunately, we can employ\n",
        "numerical methods to investigate these systems.\n",
        "\n",
        "First, let us consider the one-dimensional non-interacting case. The dimensionless\n",
        "equation we wish to solve is:\n",
        "\n",
        "$$\n",
        "H\\psi(x,t) = i \\frac{\\partial \\psi(x,t)}{\\partial t}\n",
        "$$\n",
        "With\n",
        "$$\n",
        "H = -\\frac{1}{2}\\frac{(\\partial^{2} \\psi)}{\\partial x^{2}}+ V(x)\n",
        "$$\n",
        "\n",
        "When solving problems analytically, we obtain $\\psi(x,t)$ in the continuum of position\n",
        "and time. Here, we will adopt a different approach, which is better suited to handle this\n",
        "problem numerically. We begin by discretizing our spatial and temporal domains, i.e., we\n",
        "consider $\\psi(x_{i},t_{j})$ with equally-spaced points in space and time,$x_{i}= i \\Delta x$ and $t_{j}=j \\Delta j$(integer i and j).\n",
        "\n",
        "Visscher proposed the algorithm for the temporal evolution we will employ in this\n",
        "project (see the suggested bibliography). We write explicitly the real and imaginary parts\n",
        "of the wave function: $\\psi(x,t)= R(x,t)+ i I(x,t)$. Substituting it into the time-dependent Schrödinger equation, we obtain two equations:\n",
        "$$\n",
        "\\frac{dR}{dt} = HI\n",
        "$$\n",
        "$$\n",
        "\\frac{dI}{dt} = -HR\n",
        "$$\n",
        "\n",
        "Instead of computing both the real and imaginary parts at the same time t, we calculate R at $t = 0, \\Delta t,2\\Delta,\\dots t$ and I at $t= \\frac{\\Delta t}{2},\\frac{3\\Delta t}{2},\\dots$Their time-evolution is given by:\n",
        "\n",
        "$$\n",
        "R\\left( x,t+ \\frac{\\Delta t}{2} \\right) = R\\left( x,t- \\frac{\\Delta t}{2} \\right)+ \\Delta t HI(x,t)\n",
        "$$\n",
        "And\n",
        "$$\n",
        "I\\left( x,t+ \\frac{\\Delta t}{2} \\right)=I\\left( x,t-\\frac{\\Delta t}{2} \\right)-\\Delta t HR(x,t)\n",
        "$$\n",
        "\n",
        "To start the algorithm, we need R(x, 0) (which comes from the initial conditions) and\n",
        "I(x, ∆t/2), which can be obtained by performing a “half step”:\n",
        "\n",
        "$$\n",
        "I\\left( x, \\frac{\\Delta t}{2} \\right) = I(x,0)-HR(x,0) \\frac{\\Delta t}{2}\n",
        "$$\n",
        "\n",
        "These equations contain the kinetic operator applied to the real and imaginary\n",
        "parts of the wave function. The second spatial derivative of a discretized function can be\n",
        "calculated using:\n",
        "\n",
        "$$\n",
        "\\frac{\\partial^{2}f(x_{i},t_{j})}{\\partial x^{2}}\\approx \\left[ \\frac{f(x_{i+1},t_{j})-2f(x_{i},t_{j})+f(x_{i-1},t_{j})}{(\\Delta x)^{2}} \\right]\n",
        "$$\n",
        "The probability density is not obvious in this case since we are computing the real\n",
        "and imaginary components of the wave function at different time instants. We have two\n",
        "alternatives:\n",
        "\n",
        "$$\n",
        "P(x,t) = R(x,t)^{2} + I\\left( x,t+ \\frac{\\Delta t}{2} \\right)I\\left( x,t - \\frac{\\Delta t}{2} \\right)\n",
        "$$\n",
        "Or\n",
        "$$\n",
        "P(x,t) = I(x,t)^{2} + R\\left( x,t+ \\frac{\\Delta t}{2} \\right)R\\left( x,t - \\frac{\\Delta t}{2} \\right)\n",
        "$$\n",
        "\n",
        "Finally, we have to check if the values we choose for ∆x and ∆t provide a stable\n",
        "evolution. The stability criterion is given by:\n",
        "\n",
        "$$\n",
        "-\\frac{2}{\\Delta t}<V< \\frac{2}{\\Delta t}-\\frac{2}{(\\Delta x)^{2}}\n",
        "$$\n",
        "\n",
        "which means that, for a given V and ∆x, we can always decrease ∆t to fulfill the stability\n",
        "condition.\n",
        "\n",
        "Write a program that uses the algorithm above to compute the time-evolution of an\n",
        "initial state subjected to a harmonic trap,\n",
        "\n",
        "$$\n",
        "V(x) = \\frac{1}{2}x^{2}\n",
        "$$\n",
        "\n",
        "Consider a spatial domain from −L to L. Choose a value L that is sufficiently large so\n",
        "we can assume $\\psi(-L,t_{j})=\\psi(L,t_{j})=0 \\enspace \\forall \\enspace t_{j}$ during the whole evolution. Plot P(x, t) for\n",
        "different values of t. Alternatively, you can make a gif with the time evolution.\n",
        "\n",
        "## *a)*\n",
        "\n",
        "Consider the initial state:\n",
        "\n",
        "$$\n",
        "\\psi(x,0) = \\left( \\frac{1}{\\pi} \\right)^{1/4}e^{-x^{2}/2}\n",
        "$$\n",
        "What happens? Why?\n",
        "\n",
        "## *b)*\n",
        "\n",
        "Consider the initial state:\n",
        "\n",
        "$$\n",
        "\\psi(x,0) = \\left( \\frac{2}{\\pi} \\right)^{1/4}e^{-x^{2}}\n",
        "$$\n",
        "What happens? Why?\n",
        "\n",
        "## c)\n",
        "\n",
        "Now that we have some familiarity with the non-interacting case, we can consider\n",
        "\n",
        "the one-dimensional GPE. We have to modify our algorithm to take into account the non-\n",
        "linear term. This can be done by including the non-linear term  $U_{0}|\\psi(x,t)|^{2}$.\n",
        "\n",
        "\n",
        "$$\n",
        "R\\left( t+ \\frac{\\Delta t}{2} \\right) = R\\left( t- \\frac{\\Delta t}{2} \\right) + \\Delta t\\left[ -\\frac{1}{2} \\frac{\\partial^{2}}{\\partial x^{2}}+V+ U_{0}\\left( R\\left( t+ \\frac{\\Delta t}{2} \\right)R\\left( t- \\frac{\\Delta t}{2} \\right) + I(t)^{2} \\right) \\right]I(t)\n",
        "$$\n",
        "\n",
        "$$\n",
        "I\\left( t+ \\frac{\\Delta t}{2} \\right) = I\\left( t- \\frac{\\Delta t}{2} \\right) - \\Delta t\\left[ -\\frac{1}{2} \\frac{\\partial^{2}}{\\partial x^{2}}+V+ U_{0}\\left( I\\left( t+ \\frac{\\Delta t}{2} \\right)I\\left( t- \\frac{\\Delta t}{2} \\right) + R(t)^{2} \\right) \\right]I(t)\n",
        "$$\n",
        "where we omitted the spatial dependence for brevity. Solving for $R\\left( t+ \\frac{\\Delta t}{2} \\right)$ and $I\\left( t+\\frac{\\Delta t}{2} \\right)$ we have the algorithm for the updates:\n",
        "\n",
        "\n",
        "$$\n",
        "R\\left( t+ \\frac{\\Delta t}{2} \\right) = \\frac{R\\left( t- \\frac{\\Delta t}{2} \\right) + \\Delta t\\left[ -\\frac{1}{2} \\frac{\\partial^{2}}{\\partial x^{2}}+V+ U_{0}\\left( R\\left( t+ \\frac{\\Delta t}{2} \\right)R\\left( t- \\frac{\\Delta t}{2} \\right) + I(t)^{2} \\right) \\right]I(t)}{1-\\Delta tU_{0}R\\left( t-\\frac{\\Delta t}{2} \\right)I(t)}\n",
        "$$\n",
        "\n",
        "$$\n",
        "I\\left( t+ \\frac{\\Delta t}{2} \\right) =\\frac{ I\\left( t- \\frac{\\Delta t}{2} \\right) - \\Delta t\\left[ -\\frac{1}{2} \\frac{\\partial^{2}}{\\partial x^{2}}+V+ U_{0}\\left( I\\left( t+ \\frac{\\Delta t}{2} \\right)I\\left( t- \\frac{\\Delta t}{2} \\right) + R(t)^{2} \\right) \\right]I(t)}{1-\\Delta tU_{0}I\\left( t-\\frac{\\Delta t}{2} \\right)R(t)}\n",
        "$$\n",
        "\n",
        "For the “half step”, the generalization:\n",
        "\n",
        "$$\n",
        "I\\left( x, \\frac{\\Delta t}{2} \\right)= I(x,0)- \\frac{\\Delta t}{2}\\left[ -\\frac{1}{2} \\frac{\\partial^{2}}{\\partial x^{2}}+V+U_{0}(R(x,0)^{2}+I(x,0)^{2}) \\right]R(x,0)\n",
        "$$\n",
        "\n",
        "Modify your program to consider a non-zero value of U0, that is, the updates given. Consider the case of V = 0, U0 = −2, and the initial state:\n",
        "$$\n",
        "\\psi(x,0)= \\frac{1}{\\sqrt{ 2 }\\cosh(x)}\n",
        "$$\n",
        "What happens? Why?"
      ],
      "metadata": {
        "id": "KEB4Vug_oAQo"
      }
    },
    {
      "cell_type": "code",
      "source": [
        "#@title Import libraries\n",
        "import numpy as np\n",
        "import matplotlib.pyplot as plt\n",
        "from matplotlib.animation import FuncAnimation\n",
        "import math as m"
      ],
      "metadata": {
        "id": "6eTAYG5_qWKU"
      },
      "execution_count": 35,
      "outputs": []
    },
    {
      "cell_type": "markdown",
      "source": [
        "#a)"
      ],
      "metadata": {
        "id": "ITv8SeVp0dBr"
      }
    },
    {
      "cell_type": "code",
      "source": [
        "def potential(x):\n",
        "    return 0.5 * x**2\n",
        "\n",
        "\n",
        "def initialconditions(V, R0, deltax, L, timeframe):\n",
        "    # Initialize the spatial grid\n",
        "    x = np.linspace(-L, L, int(2 * L / deltax) + 1)\n",
        "    n_x = len(x)\n",
        "\n",
        "    # Calculate dx and dx squared\n",
        "    dx = (x[-1] - x[0]) / (n_x - 1)\n",
        "    dx2 = dx ** 2\n",
        "\n",
        "    # Initialize wavefunction and potential arrays\n",
        "    realPsi = np.zeros(n_x, dtype=np.longdouble)\n",
        "    imagPsi = np.zeros(n_x, dtype=np.longdouble)\n",
        "    potential = np.array([V(xi) for xi in x], dtype=np.longdouble)\n",
        "\n",
        "    # Initialize the wavefunctions using provided functions\n",
        "    for i in range(n_x):\n",
        "        realPsi[i] = R0(x[i])\n",
        "\n",
        "    # Initialize time step size\n",
        "    dt = finddeltat(V, dx, L)\n",
        "\n",
        "    # Half-step update for the imaginary part (as in the Java code)\n",
        "    # Advances the imaginary part by half a time step\n",
        "    for i in range(1, n_x - 1):\n",
        "        deltaRe = (potential[i] * realPsi[i]\n",
        "                   - 0.5 * (realPsi[i + 1] - 2 * realPsi[i] + realPsi[i - 1]) / dx2)\n",
        "        imagPsi[i] -= deltaRe * dt / 2\n",
        "\n",
        "    # Apply boundary conditions (imagPsi and realPsi set to zero at boundaries)\n",
        "    realPsi[0] = realPsi[-1] = 0.0\n",
        "    imagPsi[0] = imagPsi[-1] = 0.0\n",
        "\n",
        "    # Create time array\n",
        "    t = np.arange(0, timeframe + dt, dt)\n",
        "\n",
        "    return realPsi, imagPsi, x, t\n",
        "\n",
        "def finddeltat(V,deltax,L):\n",
        "    #in this specific potential(the harmonic trap) as V always increases for modulus(x), its biggest value is given by V(L)\n",
        "    #As the harmonic trap is always positive, the lower bound is 0\n",
        "    upperbounddt = 1/((V(L)/2) + (1/deltax**2))\n",
        "    deltat = round(upperbounddt/2,4)\n",
        "    return deltat\n",
        "\n",
        "def step(realPsi, imagPsi, potential, dx2, dt,x):\n",
        "    n = len(imagPsi)\n",
        "    # Copy arrays to avoid overwriting values needed for computations\n",
        "    realPsi_old = realPsi.copy()\n",
        "    imagPsi_old = imagPsi.copy()\n",
        "\n",
        "    # Update realPsi using imagPsi_old\n",
        "    for i in range(1, n - 1):\n",
        "        imH = potential(x[i]) * imagPsi_old[i] - 0.5 * (imagPsi_old[i + 1] - 2 * imagPsi_old[i] + imagPsi_old[i - 1]) / dx2\n",
        "        realPsi[i] += imH * dt\n",
        "\n",
        "    # Apply boundary conditions to realPsi\n",
        "    realPsi[0] = 0.0\n",
        "    realPsi[-1] = 0.0\n",
        "\n",
        "    # Update imagPsi using updated realPsi\n",
        "    for i in range(1, n - 1):\n",
        "        reH = potential(x[i]) * realPsi[i] - 0.5 * (realPsi[i + 1] - 2 * realPsi[i] + realPsi[i - 1]) / dx2\n",
        "        imagPsi[i] -= reH * dt\n",
        "\n",
        "    # Apply boundary conditions to imagPsi\n",
        "    imagPsi[0] = 0.0\n",
        "    imagPsi[-1] = 0.0\n",
        "\n",
        "    return realPsi, imagPsi\n",
        "\n",
        "def visscheralgorithm(potential, R0, deltax, L, timeframe):\n",
        "    x = np.arange(-L, L + deltax, deltax)\n",
        "    n_x = x.size\n",
        "    dx2 = deltax ** 2\n",
        "\n",
        "\n",
        "    # Compute time step size\n",
        "    dt = finddeltat(potential, deltax, L)\n",
        "    n_t = int(timeframe / dt) + 1  # Ensure the total time is covered\n",
        "    t = np.linspace(0, timeframe, n_t)\n",
        "\n",
        "    # Initialize wavefunction arrays\n",
        "    realPsi = R0(x)\n",
        "    imagPsi = np.zeros_like(realPsi)\n",
        "\n",
        "    # Arrays to store wavefunction over time\n",
        "    R = np.zeros((n_t, n_x))\n",
        "    I = np.zeros((n_t, n_x))\n",
        "\n",
        "    # Store initial conditions\n",
        "    R[0, :] = realPsi\n",
        "    I[0, :] = imagPsi\n",
        "\n",
        "    # Time-stepping loop\n",
        "    for j in range(1, n_t):\n",
        "        realPsi, imagPsi = step(realPsi, imagPsi, potential, dx2, dt,x)\n",
        "        R[j, :] = realPsi\n",
        "        I[j, :] = imagPsi\n",
        "\n",
        "    # Transpose R and I to match shape (n_x, n_t)\n",
        "    R = R.T\n",
        "    I = I.T\n",
        "\n",
        "    return x, t, R, I,dt"
      ],
      "metadata": {
        "id": "f7tcnsjCrfoO"
      },
      "execution_count": 36,
      "outputs": []
    },
    {
      "cell_type": "code",
      "source": [
        "# In this case\n",
        "\n",
        "def initialstatea(x):\n",
        "    return ((1/np.pi)**(1/4))*np.exp(-(x**2)/2)\n",
        "\n",
        "x,t,R,I,deltat = visscheralgorithm(potential,initialstatea,0.3,30,10)\n",
        " # Calculate probability density\n",
        "P_A = np.zeros_like(R)\n",
        "for i in range(R.shape[0]-1):\n",
        "    for j in range(R.shape[1]-2):\n",
        "        P_A[i,j] = (R[i,j]**2)+ I[i,j]*I[i,j+1]\n",
        "print(deltat)\n",
        "P_A.max()"
      ],
      "metadata": {
        "colab": {
          "base_uri": "https://localhost:8080/"
        },
        "id": "9wZMZei3r9Y8",
        "outputId": "8e8924fc-b511-423d-c0d6-5374b1dd8d8d"
      },
      "execution_count": 37,
      "outputs": [
        {
          "output_type": "stream",
          "name": "stdout",
          "text": [
            "0.0021\n"
          ]
        },
        {
          "output_type": "execute_result",
          "data": {
            "text/plain": [
              "0.571611907812558"
            ]
          },
          "metadata": {},
          "execution_count": 37
        }
      ]
    },
    {
      "cell_type": "markdown",
      "source": [
        "## GIF Generating"
      ],
      "metadata": {
        "id": "qcvnIgUM1mwQ"
      }
    },
    {
      "cell_type": "code",
      "source": [
        "fig, ax = plt.subplots()\n",
        "\n",
        "skipsize = 20  # Set your desired skip size here\n",
        "\n",
        "def animate(i):\n",
        "    ax.clear()\n",
        "    # i is the actual frame index after skipping\n",
        "    ax.plot(x, P_A[:, i], color='blue')\n",
        "    # Set plot limits\n",
        "    ax.set_xlim(x[0], x[-1])\n",
        "    ax.set_ylim(0, 1)\n",
        "    ax.set_xlabel('x')\n",
        "    ax.set_ylabel('Probability Density P(x, t)')\n",
        "    ax.set_title(f'Time t = {t[i]:.3f}')\n",
        "    ax.grid(True)\n",
        "\n",
        "# Create a list of frame indices, selecting every 'skipsize' frame\n",
        "frame_indices = range(0, len(t), skipsize)\n",
        "\n",
        "# Adjust the interval to maintain the total animation duration\n",
        "original_interval = 50  # Original interval in milliseconds\n",
        "adjusted_interval = original_interval * skipsize\n",
        "\n",
        "# Create the animation object\n",
        "anim = FuncAnimation(\n",
        "    fig,\n",
        "    animate,\n",
        "    frames=frame_indices,   # Use the list of skipped frames\n",
        "    interval=adjusted_interval,  # Adjust interval accordingly\n",
        "    repeat=False\n",
        ")\n",
        "\n",
        "# Save the animation as a GIF\n",
        "anim.save('probability_density_evolution_a.gif', writer='pillow', fps=20)"
      ],
      "metadata": {
        "colab": {
          "base_uri": "https://localhost:8080/",
          "height": 472
        },
        "id": "BA6pxswTsDJo",
        "outputId": "35575b2a-f213-401d-91df-67e057e0b530"
      },
      "execution_count": 38,
      "outputs": [
        {
          "output_type": "display_data",
          "data": {
            "text/plain": [
              "<Figure size 640x480 with 1 Axes>"
            ],
            "image/png": "[encoded data removed]"
          },
          "metadata": {}
        }
      ]
    },
    {
      "cell_type": "markdown",
      "source": [
        "# b)"
      ],
      "metadata": {
        "id": "7X0Vx7X71FJv"
      }
    },
    {
      "cell_type": "code",
      "source": [
        "def initialstateb(x):\n",
        "    return ((2/np.pi)**(1/4))*np.exp(-(x**2))\n",
        "\n",
        "x,t,R,I,deltat = visscheralgorithm(potential,initialstateb,0.3,30,10)\n",
        " # Calculate probability density\n",
        "P_B = np.zeros_like(R)\n",
        "for i in range(R.shape[0]-1):\n",
        "    for j in range(R.shape[1]-2):\n",
        "        P_B[i,j] = (R[i,j]**2)+ I[i,j]*I[i,j+1]\n",
        "print(deltat)\n",
        "P_B.max()"
      ],
      "metadata": {
        "colab": {
          "base_uri": "https://localhost:8080/"
        },
        "id": "GpPEeJoAsVTk",
        "outputId": "52b6bffd-f3b3-4cb4-b2f4-5bf439c6699b"
      },
      "execution_count": 39,
      "outputs": [
        {
          "output_type": "stream",
          "name": "stdout",
          "text": [
            "0.0021\n"
          ]
        },
        {
          "output_type": "execute_result",
          "data": {
            "text/plain": [
              "0.7978909966688543"
            ]
          },
          "metadata": {},
          "execution_count": 39
        }
      ]
    },
    {
      "cell_type": "markdown",
      "source": [
        "## GIF Generating"
      ],
      "metadata": {
        "id": "3m5SZUIx1itm"
      }
    },
    {
      "cell_type": "code",
      "source": [
        "fig, ax = plt.subplots()\n",
        "\n",
        "skipsize = 20\n",
        "\n",
        "def animate(i):\n",
        "    ax.clear()\n",
        "    ax.plot(x, P_B[:, i], color='blue')\n",
        "    ax.set_xlim(x[0], x[-1])\n",
        "    ax.set_ylim(0, 1)\n",
        "    ax.set_xlabel('x')\n",
        "    ax.set_ylabel('Probability Density P(x, t)')\n",
        "    ax.set_title(f'Time t = {t[i]:.3f}')\n",
        "    ax.grid(True)\n",
        "\n",
        "#list of frame indices\n",
        "frame_indices = range(0, len(t), skipsize)\n",
        "\n",
        "\n",
        "original_interval = 20  # Original interval in milliseconds\n",
        "adjusted_interval = original_interval * skipsize\n",
        "\n",
        "# animation object\n",
        "anim = FuncAnimation(\n",
        "    fig,\n",
        "    animate,\n",
        "    frames=frame_indices,   # list of skipped frames\n",
        "    interval=adjusted_interval,\n",
        "    repeat=False\n",
        ")\n",
        "\n",
        "# Save the animation as a GIF\n",
        "anim.save('probability_density_evolution_b.gif', writer='pillow', fps=20)"
      ],
      "metadata": {
        "colab": {
          "base_uri": "https://localhost:8080/",
          "height": 472
        },
        "id": "GFt62iDPsYv3",
        "outputId": "c86efeba-4bdc-4dda-f645-e23cb83382d4"
      },
      "execution_count": 40,
      "outputs": [
        {
          "output_type": "display_data",
          "data": {
            "text/plain": [
              "<Figure size 640x480 with 1 Axes>"
            ],
            "image/png": "[encoded data removed]"
          },
          "metadata": {}
        }
      ]
    },
    {
      "cell_type": "markdown",
      "source": [
        "# c)"
      ],
      "metadata": {
        "id": "YSCymhMf1NfY"
      }
    },
    {
      "cell_type": "code",
      "source": [
        "def I0(x):\n",
        "    return 0.0  # Initial imaginary part is zero\n",
        "\n",
        "# Calculate maximum stable time step size for linear part\n",
        "def finddeltat(V, deltax, L):\n",
        "    # Calculate the maximum potential value within the domain\n",
        "    x_max = L\n",
        "    V_max = V(x_max)\n",
        "    # Compute the stability limit for the time step(we will use 90%)\n",
        "    deltat = 0.9 / ((V_max / 2) + (1 / deltax**2))\n",
        "    return deltat\n",
        "\n",
        "# Function to perform a single step update with the nonlinear interaction term\n",
        "def step(realPsi, imagPsi, potential, dx2, dt, U0):\n",
        "    n = len(realPsi)\n",
        "\n",
        "    # Copy arrays to avoid overwriting values needed for computations\n",
        "    realPsi_old = realPsi.copy()\n",
        "    imagPsi_old = imagPsi.copy()\n",
        "\n",
        "    # Update realPsi using imagPsi_old with nonlinear interaction\n",
        "    for i in range(1, n - 1):\n",
        "        # Compute Hamiltonian operator acting on imagPsi (nonlinear)\n",
        "        laplacian_imagPsi = (imagPsi_old[i + 1] - 2 * imagPsi_old[i] + imagPsi_old[i - 1]) / dx2\n",
        "        interaction_term = U0 * (realPsi_old[i] ** 2 + imagPsi_old[i] ** 2)\n",
        "        H_imag = -0.5 * laplacian_imagPsi + potential[i] + interaction_term\n",
        "\n",
        "        # Update realPsi with nonlinear interaction\n",
        "        denominator = 1 - dt * U0 * realPsi_old[i] * imagPsi_old[i]\n",
        "        realPsi[i] = (realPsi_old[i] + dt * H_imag * imagPsi_old[i]) / denominator\n",
        "\n",
        "    # Apply boundary conditions to realPsi\n",
        "    realPsi[0] = 0.0\n",
        "    realPsi[-1] = 0.0\n",
        "\n",
        "    # Update imagPsi using updated realPsi with nonlinear interaction\n",
        "    for i in range(1, n - 1):\n",
        "        # Compute Hamiltonian operator acting on realPsi (nonlinear)\n",
        "        laplacian_realPsi = (realPsi[i + 1] - 2 * realPsi[i] + realPsi[i - 1]) / dx2\n",
        "        interaction_term = U0 * (realPsi[i] ** 2 + imagPsi[i] ** 2)\n",
        "        H_real = -0.5 * laplacian_realPsi + potential[i] + interaction_term\n",
        "\n",
        "        # Update imagPsi with nonlinear interaction\n",
        "        denominator = 1 + dt * U0 * imagPsi_old[i] * realPsi_old[i]\n",
        "        imagPsi[i] = (imagPsi_old[i] - dt * H_real * realPsi[i]) / denominator\n",
        "\n",
        "    # Apply boundary conditions to imagPsi\n",
        "    imagPsi[0] = 0.0\n",
        "    imagPsi[-1] = 0.0\n",
        "\n",
        "    return realPsi, imagPsi\n",
        "\n",
        "# Function to implement the Visscher algorithm with the nonlinear term\n",
        "def visscheralgorithmnonlinear(V, R0, I0, deltax, L, timeframe, U0):\n",
        "    x = np.linspace(-L, L, int(2 * L / deltax) + 1)\n",
        "    n_x = len(x)\n",
        "    dx2 = deltax ** 2\n",
        "\n",
        "    # Initialize potential\n",
        "    potential_values = np.array([V(xi) for xi in x], dtype=np.longdouble)\n",
        "\n",
        "    # Compute time step size\n",
        "    dt = finddeltat(V, deltax, L)\n",
        "    n_t = int(timeframe / dt) + 1  # Ensure the total time is covered\n",
        "    t = np.linspace(0, timeframe, n_t)\n",
        "\n",
        "    # Initialize wavefunction arrays\n",
        "    realPsi = np.array([R0(xi) for xi in x], dtype=np.longdouble) # np.sqrt(10)is due to the fact that R0 is not normalized in -L to L\n",
        "    imagPsi = np.array([I0(xi) for xi in x], dtype=np.longdouble)\n",
        "\n",
        "    # Arrays to store wavefunction over time\n",
        "    R = np.zeros((n_t, n_x))\n",
        "    I = np.zeros((n_t, n_x))\n",
        "\n",
        "    # Store initial conditions\n",
        "    R[0, :] = realPsi\n",
        "    I[0, :] = imagPsi\n",
        "\n",
        "    # Time-stepping loop\n",
        "    for j in range(1, n_t):\n",
        "        realPsi, imagPsi = step(realPsi, imagPsi, potential_values, dx2, dt, U0)\n",
        "        R[j, :] = realPsi\n",
        "        I[j, :] = imagPsi\n",
        "\n",
        "    # Transpose R and I to match shape (n_x, n_t)\n",
        "    R = R.T\n",
        "    I = I.T\n",
        "\n",
        "    return x, t, R, I,dt"
      ],
      "metadata": {
        "id": "itiapum7tcxb"
      },
      "execution_count": 41,
      "outputs": []
    },
    {
      "cell_type": "code",
      "source": [
        "# Potential function (V=0 for this specific problem)\n",
        "def potential(x):\n",
        "    return 0.0\n",
        "def initialstatecimag(x):\n",
        "    return 0.0\n",
        "\n",
        "# Nonlinear parameter U0\n",
        "U0 = -2\n",
        "# Define the initial wavefunction components\n",
        "def initialstatec(x):\n",
        "    return 1.0 /( (np.sqrt(2) * np.cosh(x))*np.sqrt(5))\n",
        "\n",
        "x,t,R,I,deltat = visscheralgorithmnonlinear(potential,initialstatec,initialstatecimag,0.2,100,4,U0)\n",
        " # Calculate probability density\n",
        "P_C = np.zeros_like(R,dtype = np.longdouble)\n",
        "for i in range(R.shape[0]-1):\n",
        "    for j in range(R.shape[1]-2):\n",
        "        P_C[i,j] = ((R[i,j]**2)+ I[i,j]*I[i,j+1] )\n",
        "print(deltat)\n",
        "\n",
        "P_C[:,0].sum()"
      ],
      "metadata": {
        "colab": {
          "base_uri": "https://localhost:8080/"
        },
        "id": "3DElwBIutftW",
        "outputId": "55df27c7-dc73-4763-be59-dfd6b1c1941b"
      },
      "execution_count": 42,
      "outputs": [
        {
          "output_type": "stream",
          "name": "stdout",
          "text": [
            "0.036000000000000004\n"
          ]
        },
        {
          "output_type": "execute_result",
          "data": {
            "text/plain": [
              "0.9999999999999997978"
            ]
          },
          "metadata": {},
          "execution_count": 42
        }
      ]
    },
    {
      "cell_type": "markdown",
      "source": [
        "## GIF Generating"
      ],
      "metadata": {
        "id": "qKlWywvS1XJv"
      }
    },
    {
      "cell_type": "code",
      "source": [
        "fig, ax = plt.subplots()\n",
        "\n",
        "skipsize = 1\n",
        "\n",
        "def animate(i):\n",
        "    ax.clear()\n",
        "    ax.plot(x, P_C[:, i], color='blue')\n",
        "    ax.set_xlim(x[0], x[-1])\n",
        "    ax.set_ylim(0, 1)\n",
        "    ax.set_xlabel('x')\n",
        "    ax.set_ylabel('Probability Density P(x, t)')\n",
        "    ax.set_title(f'Time t = {t[i]:.3f}')\n",
        "    ax.grid(True)\n",
        "\n",
        "#list of frame indices\n",
        "frame_indices = range(0, len(t), skipsize)\n",
        "\n",
        "\n",
        "original_interval = 20  # Original interval in milliseconds\n",
        "adjusted_interval = original_interval * skipsize\n",
        "\n",
        "# animation object\n",
        "anim = FuncAnimation(\n",
        "    fig,\n",
        "    animate,\n",
        "    frames=frame_indices,   # list of skipped frames\n",
        "    interval=adjusted_interval,\n",
        "    repeat=False\n",
        ")\n",
        "\n",
        "# Save the animation as a GIF\n",
        "anim.save('probability_density_evolution_c.gif', writer='pillow', fps=20)"
      ],
      "metadata": {
        "colab": {
          "base_uri": "https://localhost:8080/",
          "height": 472
        },
        "id": "WjY2cU8Ttilf",
        "outputId": "9ba80283-2483-4917-9145-eab3347eb5d9"
      },
      "execution_count": 43,
      "outputs": [
        {
          "output_type": "display_data",
          "data": {
            "text/plain": [
              "<Figure size 640x480 with 1 Axes>"
            ],
            "image/png": "[encoded data removed]"
          },
          "metadata": {}
        }
      ]
    },
    {
      "cell_type": "markdown",
      "source": [
        "# Teorical Question\n",
        "\n",
        "## *a)*\n",
        "\n",
        "Consider the initial state:\n",
        "\n",
        "$$\n",
        "\\psi(x,0) = \\left( \\frac{1}{\\pi} \\right)^{1/4}e^{-x^{2}/2}\n",
        "$$\n",
        "What happens? Why?\n",
        "\n",
        "This is the ground state of a harmonic oscillator. When subjected to the harmonic potential $ V(x) = \\frac{1}{2}x^2$, the wave function retains its Gaussian form over time. While the wave function slightly oscillates, its overall shape remains preserved. The chosen wave function corresponds exactly to the ground state of the quantum harmonic oscillator. For this system, the ground state is a stationary solution of the Schrödinger equation in a harmonic potential. As a result, the wave function does not disperse and remains stable during the time evolution. The time-dependent Schrödinger equation merely introduces a global phase factor in the wave function, which does not alter the probability density.\n",
        "\n",
        "## *b)*\n",
        "\n",
        "Consider the initial state:\n",
        "\n",
        "$$\n",
        "\\psi(x,0) = \\left( \\frac{2}{\\pi} \\right)^{1/4}e^{-x^{2}}\n",
        "$$\n",
        "What happens? Why?\n",
        "\n",
        "In this case, the initial wave function is more compressed than the ground state of the harmonic potential. During time evolution, the wave function expands and oscillates before stabilizing into a periodic behavior. This wave function is not a stationary state of the harmonic potential. Initially, the wave function is compressed, but since it doesn't correspond to an eigenstate of the harmonic oscillator Hamiltonian, it does not remain stable. Instead, the wave function periodically expands and contracts in response to the potential. This behavior reflects the oscillatory nature of the harmonic oscillator, where any initial state that is not a ground or specific excited state will result in periodic motion.\n",
        "\n",
        "## *c)*\n",
        "\n",
        "Consider the case of V = 0, U0 = −2, and the initial state:\n",
        "$$\n",
        "\\psi(x,0)= \\frac{1}{\\sqrt{ 2 }\\cosh(x)}\n",
        "$$\n",
        "What happens? Why?\n",
        "\n",
        "In this scenario, the initially localized wave function contracts due to the attractive interaction (represented by $U_0 = -2$). The wave function collapses into a more localized region over time, a phenomenon known as non-linear collapse or focusing. If $U_0$ is too negative, a singularity (collapse to a point) may occur at future times. The presence of attractive interactions (with\n",
        "$U_0 < 0$) causes the atoms in the condensate to experience a mutual attraction. This leads to the collapse of the wave function, as the potential energy associated with the non-linear term dominates the kinetic term. In the extreme case, the wave function could completely collapse into a point, but in our case, it simply becomes more concentrated. This collapse behavior is typical for systems with strong attractive interactions, as described by the GPE with $U_0<0$."
      ],
      "metadata": {
        "id": "fd8LGZO0zlR4"
      }
    }
  ]
}